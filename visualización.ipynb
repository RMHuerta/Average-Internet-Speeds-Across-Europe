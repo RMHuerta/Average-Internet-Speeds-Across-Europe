{
  "nbformat": 4,
  "nbformat_minor": 0,
  "metadata": {
    "colab": {
      "provenance": [],
      "authorship_tag": "ABX9TyNZmvSX1ZcLYZuMJQcXQdSd",
      "include_colab_link": true
    },
    "kernelspec": {
      "name": "python3",
      "display_name": "Python 3"
    },
    "language_info": {
      "name": "python"
    }
  },
  "cells": [
    {
      "cell_type": "markdown",
      "metadata": {
        "id": "view-in-github",
        "colab_type": "text"
      },
      "source": [
        "<a href=\"https://colab.research.google.com/github/RMHuerta/Average-Internet-Speeds-Across-Europe/blob/main/visualizaci%C3%B3n.ipynb\" target=\"_parent\"><img src=\"https://colab.research.google.com/assets/colab-badge.svg\" alt=\"Open In Colab\"/></a>"
      ]
    },
    {
      "cell_type": "code",
      "execution_count": 16,
      "metadata": {
        "colab": {
          "base_uri": "https://localhost:8080/"
        },
        "id": "-n_qJs7FhxIv",
        "outputId": "253eb9bf-b35b-4a1f-ab3a-a5733620b9c4"
      },
      "outputs": [
        {
          "output_type": "stream",
          "name": "stdout",
          "text": [
            "Drive already mounted at /content/drive; to attempt to forcibly remount, call drive.mount(\"/content/drive\", force_remount=True).\n"
          ]
        }
      ],
      "source": [
        "from google.colab import drive\n",
        "drive.mount('/content/drive')"
      ]
    },
    {
      "cell_type": "code",
      "source": [
        "import matplotlib.pyplot as plt\n",
        "import pandas as pd\n",
        "import numpy as np"
      ],
      "metadata": {
        "id": "UA-jp-UKh7CS"
      },
      "execution_count": 17,
      "outputs": []
    },
    {
      "cell_type": "markdown",
      "source": [
        "Elegi\n",
        "\n",
        "Average Internet Speeds Across Europe\n",
        "Data Source: Speedtest by Ookla Global Fixed and Mobile Network Performance Maps\n",
        "https://www.makeovermonday.co.uk/data/data-sets-2022/"
      ],
      "metadata": {
        "id": "IfVVzsqciLXA"
      }
    },
    {
      "cell_type": "code",
      "source": [
        "# Keep in mind that the filename will likely be different on your computer (especially later in course)\n",
        "filename = '/content/drive/MyDrive/Colab Notebooks/Codificación_de_Dojo/Semana04/Average Internet Speeds Across Europe.xlsx'\n",
        "df = pd.read_excel(filename)\n",
        "df.head()"
      ],
      "metadata": {
        "colab": {
          "base_uri": "https://localhost:8080/",
          "height": 206
        },
        "id": "cl0dDVlVh4F2",
        "outputId": "931aefa6-df8f-4242-c11b-367bd10bd0da"
      },
      "execution_count": 18,
      "outputs": [
        {
          "output_type": "execute_result",
          "data": {
            "text/plain": [
              "  Country             Country Name    quarter  average download speed  \\\n",
              "0      AL                Shqipëria 2019-01-01                   15.30   \n",
              "1      AT               Österreich 2019-01-01                   34.15   \n",
              "2      BE          Belgique/België 2019-01-01                   62.19   \n",
              "3      BG                 Bulgaria 2019-01-01                   40.68   \n",
              "4      CH  Schweiz/Suisse/Svizzera 2019-01-01                   88.88   \n",
              "\n",
              "   average upload speed  average latency  \n",
              "0                  7.33            27.72  \n",
              "1                 10.89            30.95  \n",
              "2                 13.86            17.87  \n",
              "3                 30.56            12.43  \n",
              "4                 48.23            17.06  "
            ],
            "text/html": [
              "\n",
              "\n",
              "  <div id=\"df-76df74d5-9e7d-48d6-8e15-4c446a994cad\">\n",
              "    <div class=\"colab-df-container\">\n",
              "      <div>\n",
              "<style scoped>\n",
              "    .dataframe tbody tr th:only-of-type {\n",
              "        vertical-align: middle;\n",
              "    }\n",
              "\n",
              "    .dataframe tbody tr th {\n",
              "        vertical-align: top;\n",
              "    }\n",
              "\n",
              "    .dataframe thead th {\n",
              "        text-align: right;\n",
              "    }\n",
              "</style>\n",
              "<table border=\"1\" class=\"dataframe\">\n",
              "  <thead>\n",
              "    <tr style=\"text-align: right;\">\n",
              "      <th></th>\n",
              "      <th>Country</th>\n",
              "      <th>Country Name</th>\n",
              "      <th>quarter</th>\n",
              "      <th>average download speed</th>\n",
              "      <th>average upload speed</th>\n",
              "      <th>average latency</th>\n",
              "    </tr>\n",
              "  </thead>\n",
              "  <tbody>\n",
              "    <tr>\n",
              "      <th>0</th>\n",
              "      <td>AL</td>\n",
              "      <td>Shqipëria</td>\n",
              "      <td>2019-01-01</td>\n",
              "      <td>15.30</td>\n",
              "      <td>7.33</td>\n",
              "      <td>27.72</td>\n",
              "    </tr>\n",
              "    <tr>\n",
              "      <th>1</th>\n",
              "      <td>AT</td>\n",
              "      <td>Österreich</td>\n",
              "      <td>2019-01-01</td>\n",
              "      <td>34.15</td>\n",
              "      <td>10.89</td>\n",
              "      <td>30.95</td>\n",
              "    </tr>\n",
              "    <tr>\n",
              "      <th>2</th>\n",
              "      <td>BE</td>\n",
              "      <td>Belgique/België</td>\n",
              "      <td>2019-01-01</td>\n",
              "      <td>62.19</td>\n",
              "      <td>13.86</td>\n",
              "      <td>17.87</td>\n",
              "    </tr>\n",
              "    <tr>\n",
              "      <th>3</th>\n",
              "      <td>BG</td>\n",
              "      <td>Bulgaria</td>\n",
              "      <td>2019-01-01</td>\n",
              "      <td>40.68</td>\n",
              "      <td>30.56</td>\n",
              "      <td>12.43</td>\n",
              "    </tr>\n",
              "    <tr>\n",
              "      <th>4</th>\n",
              "      <td>CH</td>\n",
              "      <td>Schweiz/Suisse/Svizzera</td>\n",
              "      <td>2019-01-01</td>\n",
              "      <td>88.88</td>\n",
              "      <td>48.23</td>\n",
              "      <td>17.06</td>\n",
              "    </tr>\n",
              "  </tbody>\n",
              "</table>\n",
              "</div>\n",
              "      <button class=\"colab-df-convert\" onclick=\"convertToInteractive('df-76df74d5-9e7d-48d6-8e15-4c446a994cad')\"\n",
              "              title=\"Convert this dataframe to an interactive table.\"\n",
              "              style=\"display:none;\">\n",
              "\n",
              "  <svg xmlns=\"http://www.w3.org/2000/svg\" height=\"24px\"viewBox=\"0 0 24 24\"\n",
              "       width=\"24px\">\n",
              "    <path d=\"M0 0h24v24H0V0z\" fill=\"none\"/>\n",
              "    <path d=\"M18.56 5.44l.94 2.06.94-2.06 2.06-.94-2.06-.94-.94-2.06-.94 2.06-2.06.94zm-11 1L8.5 8.5l.94-2.06 2.06-.94-2.06-.94L8.5 2.5l-.94 2.06-2.06.94zm10 10l.94 2.06.94-2.06 2.06-.94-2.06-.94-.94-2.06-.94 2.06-2.06.94z\"/><path d=\"M17.41 7.96l-1.37-1.37c-.4-.4-.92-.59-1.43-.59-.52 0-1.04.2-1.43.59L10.3 9.45l-7.72 7.72c-.78.78-.78 2.05 0 2.83L4 21.41c.39.39.9.59 1.41.59.51 0 1.02-.2 1.41-.59l7.78-7.78 2.81-2.81c.8-.78.8-2.07 0-2.86zM5.41 20L4 18.59l7.72-7.72 1.47 1.35L5.41 20z\"/>\n",
              "  </svg>\n",
              "      </button>\n",
              "\n",
              "\n",
              "\n",
              "    <div id=\"df-b50061c4-5434-4a3f-9be9-a45d83cd187c\">\n",
              "      <button class=\"colab-df-quickchart\" onclick=\"quickchart('df-b50061c4-5434-4a3f-9be9-a45d83cd187c')\"\n",
              "              title=\"Suggest charts.\"\n",
              "              style=\"display:none;\">\n",
              "\n",
              "<svg xmlns=\"http://www.w3.org/2000/svg\" height=\"24px\"viewBox=\"0 0 24 24\"\n",
              "     width=\"24px\">\n",
              "    <g>\n",
              "        <path d=\"M19 3H5c-1.1 0-2 .9-2 2v14c0 1.1.9 2 2 2h14c1.1 0 2-.9 2-2V5c0-1.1-.9-2-2-2zM9 17H7v-7h2v7zm4 0h-2V7h2v10zm4 0h-2v-4h2v4z\"/>\n",
              "    </g>\n",
              "</svg>\n",
              "      </button>\n",
              "    </div>\n",
              "\n",
              "<style>\n",
              "  .colab-df-quickchart {\n",
              "    background-color: #E8F0FE;\n",
              "    border: none;\n",
              "    border-radius: 50%;\n",
              "    cursor: pointer;\n",
              "    display: none;\n",
              "    fill: #1967D2;\n",
              "    height: 32px;\n",
              "    padding: 0 0 0 0;\n",
              "    width: 32px;\n",
              "  }\n",
              "\n",
              "  .colab-df-quickchart:hover {\n",
              "    background-color: #E2EBFA;\n",
              "    box-shadow: 0px 1px 2px rgba(60, 64, 67, 0.3), 0px 1px 3px 1px rgba(60, 64, 67, 0.15);\n",
              "    fill: #174EA6;\n",
              "  }\n",
              "\n",
              "  [theme=dark] .colab-df-quickchart {\n",
              "    background-color: #3B4455;\n",
              "    fill: #D2E3FC;\n",
              "  }\n",
              "\n",
              "  [theme=dark] .colab-df-quickchart:hover {\n",
              "    background-color: #434B5C;\n",
              "    box-shadow: 0px 1px 3px 1px rgba(0, 0, 0, 0.15);\n",
              "    filter: drop-shadow(0px 1px 2px rgba(0, 0, 0, 0.3));\n",
              "    fill: #FFFFFF;\n",
              "  }\n",
              "</style>\n",
              "\n",
              "    <script>\n",
              "      async function quickchart(key) {\n",
              "        const containerElement = document.querySelector('#' + key);\n",
              "        const charts = await google.colab.kernel.invokeFunction(\n",
              "            'suggestCharts', [key], {});\n",
              "      }\n",
              "    </script>\n",
              "\n",
              "      <script>\n",
              "\n",
              "function displayQuickchartButton(domScope) {\n",
              "  let quickchartButtonEl =\n",
              "    domScope.querySelector('#df-b50061c4-5434-4a3f-9be9-a45d83cd187c button.colab-df-quickchart');\n",
              "  quickchartButtonEl.style.display =\n",
              "    google.colab.kernel.accessAllowed ? 'block' : 'none';\n",
              "}\n",
              "\n",
              "        displayQuickchartButton(document);\n",
              "      </script>\n",
              "      <style>\n",
              "    .colab-df-container {\n",
              "      display:flex;\n",
              "      flex-wrap:wrap;\n",
              "      gap: 12px;\n",
              "    }\n",
              "\n",
              "    .colab-df-convert {\n",
              "      background-color: #E8F0FE;\n",
              "      border: none;\n",
              "      border-radius: 50%;\n",
              "      cursor: pointer;\n",
              "      display: none;\n",
              "      fill: #1967D2;\n",
              "      height: 32px;\n",
              "      padding: 0 0 0 0;\n",
              "      width: 32px;\n",
              "    }\n",
              "\n",
              "    .colab-df-convert:hover {\n",
              "      background-color: #E2EBFA;\n",
              "      box-shadow: 0px 1px 2px rgba(60, 64, 67, 0.3), 0px 1px 3px 1px rgba(60, 64, 67, 0.15);\n",
              "      fill: #174EA6;\n",
              "    }\n",
              "\n",
              "    [theme=dark] .colab-df-convert {\n",
              "      background-color: #3B4455;\n",
              "      fill: #D2E3FC;\n",
              "    }\n",
              "\n",
              "    [theme=dark] .colab-df-convert:hover {\n",
              "      background-color: #434B5C;\n",
              "      box-shadow: 0px 1px 3px 1px rgba(0, 0, 0, 0.15);\n",
              "      filter: drop-shadow(0px 1px 2px rgba(0, 0, 0, 0.3));\n",
              "      fill: #FFFFFF;\n",
              "    }\n",
              "  </style>\n",
              "\n",
              "      <script>\n",
              "        const buttonEl =\n",
              "          document.querySelector('#df-76df74d5-9e7d-48d6-8e15-4c446a994cad button.colab-df-convert');\n",
              "        buttonEl.style.display =\n",
              "          google.colab.kernel.accessAllowed ? 'block' : 'none';\n",
              "\n",
              "        async function convertToInteractive(key) {\n",
              "          const element = document.querySelector('#df-76df74d5-9e7d-48d6-8e15-4c446a994cad');\n",
              "          const dataTable =\n",
              "            await google.colab.kernel.invokeFunction('convertToInteractive',\n",
              "                                                     [key], {});\n",
              "          if (!dataTable) return;\n",
              "\n",
              "          const docLinkHtml = 'Like what you see? Visit the ' +\n",
              "            '<a target=\"_blank\" href=https://colab.research.google.com/notebooks/data_table.ipynb>data table notebook</a>'\n",
              "            + ' to learn more about interactive tables.';\n",
              "          element.innerHTML = '';\n",
              "          dataTable['output_type'] = 'display_data';\n",
              "          await google.colab.output.renderOutput(dataTable, element);\n",
              "          const docLink = document.createElement('div');\n",
              "          docLink.innerHTML = docLinkHtml;\n",
              "          element.appendChild(docLink);\n",
              "        }\n",
              "      </script>\n",
              "    </div>\n",
              "  </div>\n"
            ]
          },
          "metadata": {},
          "execution_count": 18
        }
      ]
    },
    {
      "cell_type": "code",
      "source": [
        "df.info()"
      ],
      "metadata": {
        "colab": {
          "base_uri": "https://localhost:8080/"
        },
        "id": "nX1QHcQAiKqy",
        "outputId": "6df3df68-29f8-49ec-8bb5-993bd3244991"
      },
      "execution_count": 19,
      "outputs": [
        {
          "output_type": "stream",
          "name": "stdout",
          "text": [
            "<class 'pandas.core.frame.DataFrame'>\n",
            "RangeIndex: 522 entries, 0 to 521\n",
            "Data columns (total 6 columns):\n",
            " #   Column                  Non-Null Count  Dtype         \n",
            "---  ------                  --------------  -----         \n",
            " 0   Country                 522 non-null    object        \n",
            " 1   Country Name            522 non-null    object        \n",
            " 2   quarter                 522 non-null    datetime64[ns]\n",
            " 3   average download speed  521 non-null    float64       \n",
            " 4   average upload speed    522 non-null    float64       \n",
            " 5   average latency         522 non-null    float64       \n",
            "dtypes: datetime64[ns](1), float64(3), object(2)\n",
            "memory usage: 24.6+ KB\n"
          ]
        }
      ]
    },
    {
      "cell_type": "code",
      "source": [
        "# Count the duplicates\n",
        "df.duplicated().sum()"
      ],
      "metadata": {
        "colab": {
          "base_uri": "https://localhost:8080/"
        },
        "id": "OP9pSKKaoNI3",
        "outputId": "9227d717-e0a3-44fd-c946-19a9a6d5321c"
      },
      "execution_count": 20,
      "outputs": [
        {
          "output_type": "execute_result",
          "data": {
            "text/plain": [
              "0"
            ]
          },
          "metadata": {},
          "execution_count": 20
        }
      ]
    },
    {
      "cell_type": "code",
      "source": [
        "# Examine the number of unique values in columns\n",
        "df.nunique()"
      ],
      "metadata": {
        "colab": {
          "base_uri": "https://localhost:8080/"
        },
        "id": "xEGSF4dzokGD",
        "outputId": "8baa2149-b8bc-4c67-c724-46b056311266"
      },
      "execution_count": 21,
      "outputs": [
        {
          "output_type": "execute_result",
          "data": {
            "text/plain": [
              "Country                    41\n",
              "Country Name               41\n",
              "quarter                    14\n",
              "average download speed    509\n",
              "average upload speed      505\n",
              "average latency           458\n",
              "dtype: int64"
            ]
          },
          "metadata": {},
          "execution_count": 21
        }
      ]
    },
    {
      "cell_type": "code",
      "source": [
        "#datos faltantes\n",
        "df.isna().sum()"
      ],
      "metadata": {
        "colab": {
          "base_uri": "https://localhost:8080/"
        },
        "id": "qOHLzZFjmw9v",
        "outputId": "4827cf8c-2d7d-44ab-e3f6-50280dc99af8"
      },
      "execution_count": 22,
      "outputs": [
        {
          "output_type": "execute_result",
          "data": {
            "text/plain": [
              "Country                   0\n",
              "Country Name              0\n",
              "quarter                   0\n",
              "average download speed    1\n",
              "average upload speed      0\n",
              "average latency           0\n",
              "dtype: int64"
            ]
          },
          "metadata": {},
          "execution_count": 22
        }
      ]
    },
    {
      "cell_type": "code",
      "source": [],
      "metadata": {
        "id": "EJ7RccJSovMJ"
      },
      "execution_count": 22,
      "outputs": []
    },
    {
      "cell_type": "code",
      "source": [
        "num_missing = df['average download speed'].isna().sum()\n",
        "\n",
        "total_rows = df.shape[0]\n",
        "\n",
        "percent_missing = num_missing / total_rows\n",
        "print(f'{percent_missing:.2f}% of the data in the Cabin column is missing')"
      ],
      "metadata": {
        "colab": {
          "base_uri": "https://localhost:8080/"
        },
        "id": "a_P_4D_0n52C",
        "outputId": "b920330c-d08f-47e0-9615-23cdf8417240"
      },
      "execution_count": 23,
      "outputs": [
        {
          "output_type": "stream",
          "name": "stdout",
          "text": [
            "0.00% of the data in the Cabin column is missing\n"
          ]
        }
      ]
    },
    {
      "cell_type": "code",
      "source": [
        "# Check the unique values and counts of the 'Sex' column\n",
        "df['Country Name'].value_counts()"
      ],
      "metadata": {
        "colab": {
          "base_uri": "https://localhost:8080/"
        },
        "id": "G92vPUJnoR2G",
        "outputId": "30c56566-72c7-4b66-eb25-e63ee1824879"
      },
      "execution_count": 24,
      "outputs": [
        {
          "output_type": "execute_result",
          "data": {
            "text/plain": [
              "Shqipëria                  14\n",
              "Polska                     14\n",
              "Luxembourg                 14\n",
              "Latvija                    14\n",
              "Crna Gora                  14\n",
              "Severna Makedonija         14\n",
              "Malta                      14\n",
              "Nederland                  14\n",
              "Norge                      14\n",
              "Portugal                   14\n",
              "Liechtenstein              14\n",
              "România                    14\n",
              "Serbia                     14\n",
              "Sverige                    14\n",
              "Slovenija                  14\n",
              "Slovensko                  14\n",
              "Türkiye                    14\n",
              "United Kingdom             14\n",
              "Österreich                 14\n",
              "Lietuva                    14\n",
              "Italia                     14\n",
              "Eesti                      14\n",
              "Belgique/België            14\n",
              "Bulgaria                   14\n",
              "Schweiz/Suisse/Svizzera    14\n",
              "Kýpros                     14\n",
              "Česko                      14\n",
              "Deutschland                14\n",
              "Ísland                     14\n",
              "Danmark                    14\n",
              "Elláda                     14\n",
              "España                     14\n",
              "Suomi/Finland              14\n",
              "France                     14\n",
              "Hrvatska                   14\n",
              "Magyarország               14\n",
              "Éire/Ireland               14\n",
              "Bosnia and Herzegovina      1\n",
              "Moldova                     1\n",
              "Ukraine                     1\n",
              "Kosovo                      1\n",
              "Name: Country Name, dtype: int64"
            ]
          },
          "metadata": {},
          "execution_count": 24
        }
      ]
    },
    {
      "cell_type": "code",
      "source": [
        "#resumen dataframe\n",
        "df.describe()"
      ],
      "metadata": {
        "colab": {
          "base_uri": "https://localhost:8080/",
          "height": 300
        },
        "id": "_N0OPzcNq8bc",
        "outputId": "acb39ff8-dd4d-4880-e154-0c141ec77389"
      },
      "execution_count": 25,
      "outputs": [
        {
          "output_type": "execute_result",
          "data": {
            "text/plain": [
              "       average download speed  average upload speed  average latency\n",
              "count              521.000000            522.000000       522.000000\n",
              "mean                84.543800             48.946264        16.740939\n",
              "std                 43.711733             39.915934         6.529256\n",
              "min                 15.300000              3.940000         4.770000\n",
              "25%                 49.230000             17.050000        11.845000\n",
              "50%                 80.000000             35.680000        15.715000\n",
              "75%                111.320000             72.677500        19.827500\n",
              "max                214.640000            191.660000        43.220000"
            ],
            "text/html": [
              "\n",
              "\n",
              "  <div id=\"df-459383e8-514f-4058-902e-2d5c346aa5c4\">\n",
              "    <div class=\"colab-df-container\">\n",
              "      <div>\n",
              "<style scoped>\n",
              "    .dataframe tbody tr th:only-of-type {\n",
              "        vertical-align: middle;\n",
              "    }\n",
              "\n",
              "    .dataframe tbody tr th {\n",
              "        vertical-align: top;\n",
              "    }\n",
              "\n",
              "    .dataframe thead th {\n",
              "        text-align: right;\n",
              "    }\n",
              "</style>\n",
              "<table border=\"1\" class=\"dataframe\">\n",
              "  <thead>\n",
              "    <tr style=\"text-align: right;\">\n",
              "      <th></th>\n",
              "      <th>average download speed</th>\n",
              "      <th>average upload speed</th>\n",
              "      <th>average latency</th>\n",
              "    </tr>\n",
              "  </thead>\n",
              "  <tbody>\n",
              "    <tr>\n",
              "      <th>count</th>\n",
              "      <td>521.000000</td>\n",
              "      <td>522.000000</td>\n",
              "      <td>522.000000</td>\n",
              "    </tr>\n",
              "    <tr>\n",
              "      <th>mean</th>\n",
              "      <td>84.543800</td>\n",
              "      <td>48.946264</td>\n",
              "      <td>16.740939</td>\n",
              "    </tr>\n",
              "    <tr>\n",
              "      <th>std</th>\n",
              "      <td>43.711733</td>\n",
              "      <td>39.915934</td>\n",
              "      <td>6.529256</td>\n",
              "    </tr>\n",
              "    <tr>\n",
              "      <th>min</th>\n",
              "      <td>15.300000</td>\n",
              "      <td>3.940000</td>\n",
              "      <td>4.770000</td>\n",
              "    </tr>\n",
              "    <tr>\n",
              "      <th>25%</th>\n",
              "      <td>49.230000</td>\n",
              "      <td>17.050000</td>\n",
              "      <td>11.845000</td>\n",
              "    </tr>\n",
              "    <tr>\n",
              "      <th>50%</th>\n",
              "      <td>80.000000</td>\n",
              "      <td>35.680000</td>\n",
              "      <td>15.715000</td>\n",
              "    </tr>\n",
              "    <tr>\n",
              "      <th>75%</th>\n",
              "      <td>111.320000</td>\n",
              "      <td>72.677500</td>\n",
              "      <td>19.827500</td>\n",
              "    </tr>\n",
              "    <tr>\n",
              "      <th>max</th>\n",
              "      <td>214.640000</td>\n",
              "      <td>191.660000</td>\n",
              "      <td>43.220000</td>\n",
              "    </tr>\n",
              "  </tbody>\n",
              "</table>\n",
              "</div>\n",
              "      <button class=\"colab-df-convert\" onclick=\"convertToInteractive('df-459383e8-514f-4058-902e-2d5c346aa5c4')\"\n",
              "              title=\"Convert this dataframe to an interactive table.\"\n",
              "              style=\"display:none;\">\n",
              "\n",
              "  <svg xmlns=\"http://www.w3.org/2000/svg\" height=\"24px\"viewBox=\"0 0 24 24\"\n",
              "       width=\"24px\">\n",
              "    <path d=\"M0 0h24v24H0V0z\" fill=\"none\"/>\n",
              "    <path d=\"M18.56 5.44l.94 2.06.94-2.06 2.06-.94-2.06-.94-.94-2.06-.94 2.06-2.06.94zm-11 1L8.5 8.5l.94-2.06 2.06-.94-2.06-.94L8.5 2.5l-.94 2.06-2.06.94zm10 10l.94 2.06.94-2.06 2.06-.94-2.06-.94-.94-2.06-.94 2.06-2.06.94z\"/><path d=\"M17.41 7.96l-1.37-1.37c-.4-.4-.92-.59-1.43-.59-.52 0-1.04.2-1.43.59L10.3 9.45l-7.72 7.72c-.78.78-.78 2.05 0 2.83L4 21.41c.39.39.9.59 1.41.59.51 0 1.02-.2 1.41-.59l7.78-7.78 2.81-2.81c.8-.78.8-2.07 0-2.86zM5.41 20L4 18.59l7.72-7.72 1.47 1.35L5.41 20z\"/>\n",
              "  </svg>\n",
              "      </button>\n",
              "\n",
              "\n",
              "\n",
              "    <div id=\"df-9f322580-34b5-42c5-a757-73a9d8c0e760\">\n",
              "      <button class=\"colab-df-quickchart\" onclick=\"quickchart('df-9f322580-34b5-42c5-a757-73a9d8c0e760')\"\n",
              "              title=\"Suggest charts.\"\n",
              "              style=\"display:none;\">\n",
              "\n",
              "<svg xmlns=\"http://www.w3.org/2000/svg\" height=\"24px\"viewBox=\"0 0 24 24\"\n",
              "     width=\"24px\">\n",
              "    <g>\n",
              "        <path d=\"M19 3H5c-1.1 0-2 .9-2 2v14c0 1.1.9 2 2 2h14c1.1 0 2-.9 2-2V5c0-1.1-.9-2-2-2zM9 17H7v-7h2v7zm4 0h-2V7h2v10zm4 0h-2v-4h2v4z\"/>\n",
              "    </g>\n",
              "</svg>\n",
              "      </button>\n",
              "    </div>\n",
              "\n",
              "<style>\n",
              "  .colab-df-quickchart {\n",
              "    background-color: #E8F0FE;\n",
              "    border: none;\n",
              "    border-radius: 50%;\n",
              "    cursor: pointer;\n",
              "    display: none;\n",
              "    fill: #1967D2;\n",
              "    height: 32px;\n",
              "    padding: 0 0 0 0;\n",
              "    width: 32px;\n",
              "  }\n",
              "\n",
              "  .colab-df-quickchart:hover {\n",
              "    background-color: #E2EBFA;\n",
              "    box-shadow: 0px 1px 2px rgba(60, 64, 67, 0.3), 0px 1px 3px 1px rgba(60, 64, 67, 0.15);\n",
              "    fill: #174EA6;\n",
              "  }\n",
              "\n",
              "  [theme=dark] .colab-df-quickchart {\n",
              "    background-color: #3B4455;\n",
              "    fill: #D2E3FC;\n",
              "  }\n",
              "\n",
              "  [theme=dark] .colab-df-quickchart:hover {\n",
              "    background-color: #434B5C;\n",
              "    box-shadow: 0px 1px 3px 1px rgba(0, 0, 0, 0.15);\n",
              "    filter: drop-shadow(0px 1px 2px rgba(0, 0, 0, 0.3));\n",
              "    fill: #FFFFFF;\n",
              "  }\n",
              "</style>\n",
              "\n",
              "    <script>\n",
              "      async function quickchart(key) {\n",
              "        const containerElement = document.querySelector('#' + key);\n",
              "        const charts = await google.colab.kernel.invokeFunction(\n",
              "            'suggestCharts', [key], {});\n",
              "      }\n",
              "    </script>\n",
              "\n",
              "      <script>\n",
              "\n",
              "function displayQuickchartButton(domScope) {\n",
              "  let quickchartButtonEl =\n",
              "    domScope.querySelector('#df-9f322580-34b5-42c5-a757-73a9d8c0e760 button.colab-df-quickchart');\n",
              "  quickchartButtonEl.style.display =\n",
              "    google.colab.kernel.accessAllowed ? 'block' : 'none';\n",
              "}\n",
              "\n",
              "        displayQuickchartButton(document);\n",
              "      </script>\n",
              "      <style>\n",
              "    .colab-df-container {\n",
              "      display:flex;\n",
              "      flex-wrap:wrap;\n",
              "      gap: 12px;\n",
              "    }\n",
              "\n",
              "    .colab-df-convert {\n",
              "      background-color: #E8F0FE;\n",
              "      border: none;\n",
              "      border-radius: 50%;\n",
              "      cursor: pointer;\n",
              "      display: none;\n",
              "      fill: #1967D2;\n",
              "      height: 32px;\n",
              "      padding: 0 0 0 0;\n",
              "      width: 32px;\n",
              "    }\n",
              "\n",
              "    .colab-df-convert:hover {\n",
              "      background-color: #E2EBFA;\n",
              "      box-shadow: 0px 1px 2px rgba(60, 64, 67, 0.3), 0px 1px 3px 1px rgba(60, 64, 67, 0.15);\n",
              "      fill: #174EA6;\n",
              "    }\n",
              "\n",
              "    [theme=dark] .colab-df-convert {\n",
              "      background-color: #3B4455;\n",
              "      fill: #D2E3FC;\n",
              "    }\n",
              "\n",
              "    [theme=dark] .colab-df-convert:hover {\n",
              "      background-color: #434B5C;\n",
              "      box-shadow: 0px 1px 3px 1px rgba(0, 0, 0, 0.15);\n",
              "      filter: drop-shadow(0px 1px 2px rgba(0, 0, 0, 0.3));\n",
              "      fill: #FFFFFF;\n",
              "    }\n",
              "  </style>\n",
              "\n",
              "      <script>\n",
              "        const buttonEl =\n",
              "          document.querySelector('#df-459383e8-514f-4058-902e-2d5c346aa5c4 button.colab-df-convert');\n",
              "        buttonEl.style.display =\n",
              "          google.colab.kernel.accessAllowed ? 'block' : 'none';\n",
              "\n",
              "        async function convertToInteractive(key) {\n",
              "          const element = document.querySelector('#df-459383e8-514f-4058-902e-2d5c346aa5c4');\n",
              "          const dataTable =\n",
              "            await google.colab.kernel.invokeFunction('convertToInteractive',\n",
              "                                                     [key], {});\n",
              "          if (!dataTable) return;\n",
              "\n",
              "          const docLinkHtml = 'Like what you see? Visit the ' +\n",
              "            '<a target=\"_blank\" href=https://colab.research.google.com/notebooks/data_table.ipynb>data table notebook</a>'\n",
              "            + ' to learn more about interactive tables.';\n",
              "          element.innerHTML = '';\n",
              "          dataTable['output_type'] = 'display_data';\n",
              "          await google.colab.output.renderOutput(dataTable, element);\n",
              "          const docLink = document.createElement('div');\n",
              "          docLink.innerHTML = docLinkHtml;\n",
              "          element.appendChild(docLink);\n",
              "        }\n",
              "      </script>\n",
              "    </div>\n",
              "  </div>\n"
            ]
          },
          "metadata": {},
          "execution_count": 25
        }
      ]
    },
    {
      "cell_type": "code",
      "source": [
        "#promedio latencia por trimestre\n",
        "df.groupby(['quarter'])['average latency'].mean()\n"
      ],
      "metadata": {
        "colab": {
          "base_uri": "https://localhost:8080/"
        },
        "id": "BtTih8SyrcfW",
        "outputId": "e9a6cc49-299e-4056-c50d-f8912ee9faec"
      },
      "execution_count": 26,
      "outputs": [
        {
          "output_type": "execute_result",
          "data": {
            "text/plain": [
              "quarter\n",
              "2019-01-01    22.578108\n",
              "2019-04-01    23.020811\n",
              "2019-07-01    20.721351\n",
              "2019-10-01    17.675676\n",
              "2020-01-01    17.334595\n",
              "2020-04-01    16.882432\n",
              "2020-07-01    16.510811\n",
              "2020-10-01    15.368108\n",
              "2021-01-01    14.747568\n",
              "2021-04-01    14.387838\n",
              "2021-07-01    14.754324\n",
              "2021-10-01    13.809730\n",
              "2022-01-01    13.451351\n",
              "2022-04-01    13.482683\n",
              "Name: average latency, dtype: float64"
            ]
          },
          "metadata": {},
          "execution_count": 26
        }
      ]
    },
    {
      "cell_type": "code",
      "source": [
        "Trimestres = df.groupby(['quarter'])['average latency'].mean()"
      ],
      "metadata": {
        "id": "MeCG9tQizJTm"
      },
      "execution_count": 27,
      "outputs": []
    },
    {
      "cell_type": "code",
      "source": [
        "Trimestre = np.array(Trimestres.index)\n",
        "Trimestre"
      ],
      "metadata": {
        "colab": {
          "base_uri": "https://localhost:8080/"
        },
        "id": "YeISyko_zmx5",
        "outputId": "2d13c9ec-d0da-46e7-a0e4-928498e6c14f"
      },
      "execution_count": 28,
      "outputs": [
        {
          "output_type": "execute_result",
          "data": {
            "text/plain": [
              "array(['2019-01-01T00:00:00.000000000', '2019-04-01T00:00:00.000000000',\n",
              "       '2019-07-01T00:00:00.000000000', '2019-10-01T00:00:00.000000000',\n",
              "       '2020-01-01T00:00:00.000000000', '2020-04-01T00:00:00.000000000',\n",
              "       '2020-07-01T00:00:00.000000000', '2020-10-01T00:00:00.000000000',\n",
              "       '2021-01-01T00:00:00.000000000', '2021-04-01T00:00:00.000000000',\n",
              "       '2021-07-01T00:00:00.000000000', '2021-10-01T00:00:00.000000000',\n",
              "       '2022-01-01T00:00:00.000000000', '2022-04-01T00:00:00.000000000'],\n",
              "      dtype='datetime64[ns]')"
            ]
          },
          "metadata": {},
          "execution_count": 28
        }
      ]
    },
    {
      "cell_type": "code",
      "source": [
        "latencia_promedio = np.array(Trimestres.values)\n",
        "latencia_promedio"
      ],
      "metadata": {
        "id": "htGrDn7gvdRU",
        "colab": {
          "base_uri": "https://localhost:8080/"
        },
        "outputId": "8d582113-86dd-484d-aded-9e59d0c88173"
      },
      "execution_count": 29,
      "outputs": [
        {
          "output_type": "execute_result",
          "data": {
            "text/plain": [
              "array([22.57810811, 23.02081081, 20.72135135, 17.67567568, 17.33459459,\n",
              "       16.88243243, 16.51081081, 15.36810811, 14.74756757, 14.38783784,\n",
              "       14.75432432, 13.80972973, 13.45135135, 13.48268293])"
            ]
          },
          "metadata": {},
          "execution_count": 29
        }
      ]
    },
    {
      "cell_type": "code",
      "source": [
        "#Promedio latencia por trimestre\n",
        "fig, axes = plt.subplots(nrows = 1, ncols = 1)\n",
        "fig.autofmt_xdate(rotation=45)\n",
        "axes.plot(Trimestre, latencia_promedio, c= 'k');\n",
        "axes.set_xlabel('Trimestre')\n",
        "axes.set_ylabel('Latencia')\n",
        "axes.set_title('Promedio Latencia por trimestre')"
      ],
      "metadata": {
        "id": "ioRtTRyewDWu",
        "colab": {
          "base_uri": "https://localhost:8080/",
          "height": 482
        },
        "outputId": "40de8733-da0c-43da-91bf-060106761e69"
      },
      "execution_count": 30,
      "outputs": [
        {
          "output_type": "execute_result",
          "data": {
            "text/plain": [
              "Text(0.5, 1.0, 'Promedio Latencia por trimestre')"
            ]
          },
          "metadata": {},
          "execution_count": 30
        },
        {
          "output_type": "display_data",
          "data": {
            "text/plain": [
              "<Figure size 640x480 with 1 Axes>"
            ],
            "image/png": "[encoded data removed]"
          },
          "metadata": {}
        }
      ]
    },
    {
      "cell_type": "code",
      "source": [
        "#promedio descarga por trimestre\n",
        "df.groupby(['quarter'])['average download speed'].mean()"
      ],
      "metadata": {
        "id": "2DM0Nzrs6kYn",
        "colab": {
          "base_uri": "https://localhost:8080/"
        },
        "outputId": "f9291f4d-7ae6-4fce-e066-c9eb72a09c9f"
      },
      "execution_count": 31,
      "outputs": [
        {
          "output_type": "execute_result",
          "data": {
            "text/plain": [
              "quarter\n",
              "2019-01-01     55.221892\n",
              "2019-04-01     56.211892\n",
              "2019-07-01     59.757568\n",
              "2019-10-01     65.735135\n",
              "2020-01-01     67.589459\n",
              "2020-04-01     71.999730\n",
              "2020-07-01     74.095946\n",
              "2020-10-01     83.991351\n",
              "2021-01-01     92.134054\n",
              "2021-04-01    102.190278\n",
              "2021-07-01    101.178378\n",
              "2021-10-01    113.661892\n",
              "2022-01-01    120.824865\n",
              "2022-04-01    116.087561\n",
              "Name: average download speed, dtype: float64"
            ]
          },
          "metadata": {},
          "execution_count": 31
        }
      ]
    },
    {
      "cell_type": "code",
      "source": [
        "Trimestres_2 = df.groupby(['quarter'])['average download speed'].mean()\n",
        "\n",
        "descarga_promedio = np.array(Trimestres_2.values)\n",
        "descarga_promedio"
      ],
      "metadata": {
        "id": "5cpPShMC7O2n",
        "colab": {
          "base_uri": "https://localhost:8080/"
        },
        "outputId": "9ff5b3e6-6c1a-40ff-83ca-9b823863c10d"
      },
      "execution_count": 32,
      "outputs": [
        {
          "output_type": "execute_result",
          "data": {
            "text/plain": [
              "array([ 55.22189189,  56.21189189,  59.75756757,  65.73513514,\n",
              "        67.58945946,  71.99972973,  74.09594595,  83.99135135,\n",
              "        92.13405405, 102.19027778, 101.17837838, 113.66189189,\n",
              "       120.82486486, 116.08756098])"
            ]
          },
          "metadata": {},
          "execution_count": 32
        }
      ]
    },
    {
      "cell_type": "code",
      "source": [
        "#Promedio descarga por trimestre\n",
        "fig, axes = plt.subplots(nrows = 1, ncols = 1)\n",
        "fig.autofmt_xdate(rotation=45)\n",
        "axes.plot(Trimestre, descarga_promedio, c= 'b');\n",
        "axes.set_xlabel('Trimestre')\n",
        "axes.set_ylabel('Descarga')\n",
        "axes.set_title('Promedio Descarga por trimestre')"
      ],
      "metadata": {
        "id": "ELSzs0vP8JVn",
        "colab": {
          "base_uri": "https://localhost:8080/",
          "height": 482
        },
        "outputId": "10407ab8-7a72-498a-ecfd-ab2bf0fc2168"
      },
      "execution_count": 33,
      "outputs": [
        {
          "output_type": "execute_result",
          "data": {
            "text/plain": [
              "Text(0.5, 1.0, 'Promedio Descarga por trimestre')"
            ]
          },
          "metadata": {},
          "execution_count": 33
        },
        {
          "output_type": "display_data",
          "data": {
            "text/plain": [
              "<Figure size 640x480 with 1 Axes>"
            ],
            "image/png": "[encoded data removed]"
          },
          "metadata": {}
        }
      ]
    }
  ]
}